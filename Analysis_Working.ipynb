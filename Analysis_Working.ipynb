{
 "cells": [
  {
   "cell_type": "code",
   "execution_count": 26,
   "metadata": {},
   "outputs": [],
   "source": [
    "import pandas as pd\n",
    "import numpy as np\n",
    "import matplotlib.pyplot as plt\n",
    "%matplotlib inline"
   ]
  },
  {
   "cell_type": "code",
   "execution_count": 27,
   "metadata": {},
   "outputs": [],
   "source": [
    "import seaborn as sns"
   ]
  },
  {
   "cell_type": "code",
   "execution_count": 28,
   "metadata": {},
   "outputs": [],
   "source": [
    "data = pd.read_csv('final_dataset.csv')"
   ]
  },
  {
   "cell_type": "code",
   "execution_count": 29,
   "metadata": {},
   "outputs": [
    {
     "data": {
      "text/plain": [
       "20"
      ]
     },
     "execution_count": 29,
     "metadata": {},
     "output_type": "execute_result"
    }
   ],
   "source": [
    "len(data.columns)"
   ]
  },
  {
   "cell_type": "code",
   "execution_count": 30,
   "metadata": {},
   "outputs": [
    {
     "data": {
      "text/html": [
       "<div>\n",
       "<style scoped>\n",
       "    .dataframe tbody tr th:only-of-type {\n",
       "        vertical-align: middle;\n",
       "    }\n",
       "\n",
       "    .dataframe tbody tr th {\n",
       "        vertical-align: top;\n",
       "    }\n",
       "\n",
       "    .dataframe thead th {\n",
       "        text-align: right;\n",
       "    }\n",
       "</style>\n",
       "<table border=\"1\" class=\"dataframe\">\n",
       "  <thead>\n",
       "    <tr style=\"text-align: right;\">\n",
       "      <th></th>\n",
       "      <th>Unnamed: 0</th>\n",
       "      <th>URL</th>\n",
       "      <th>embedded_domain_in_path</th>\n",
       "      <th>ip_address</th>\n",
       "      <th>number_of_dots</th>\n",
       "      <th>host_has_dash</th>\n",
       "      <th>dictionary_word</th>\n",
       "      <th>http_in_hostname</th>\n",
       "      <th>targeted_brand</th>\n",
       "      <th>redirecting url</th>\n",
       "      <th>ext url</th>\n",
       "      <th>Phishing</th>\n",
       "      <th>Subdomains</th>\n",
       "      <th>Prefix-Suffix</th>\n",
       "      <th>Anchor Tag</th>\n",
       "      <th>Tags</th>\n",
       "      <th>Forms</th>\n",
       "      <th>SSL Expiry Date</th>\n",
       "      <th>SSL Cert Check</th>\n",
       "      <th>Alexa Ranking</th>\n",
       "    </tr>\n",
       "  </thead>\n",
       "  <tbody>\n",
       "    <tr>\n",
       "      <th>0</th>\n",
       "      <td>0</td>\n",
       "      <td>https://locking-app-adverds.000webhostapp.com/...</td>\n",
       "      <td>1</td>\n",
       "      <td>-1</td>\n",
       "      <td>-1</td>\n",
       "      <td>1</td>\n",
       "      <td>1</td>\n",
       "      <td>-1</td>\n",
       "      <td>-1</td>\n",
       "      <td>-1</td>\n",
       "      <td>-1</td>\n",
       "      <td>yes</td>\n",
       "      <td>3</td>\n",
       "      <td>-1</td>\n",
       "      <td>N-N</td>\n",
       "      <td>N-N</td>\n",
       "      <td>N-N</td>\n",
       "      <td>253</td>\n",
       "      <td>0</td>\n",
       "      <td>3664.0</td>\n",
       "    </tr>\n",
       "    <tr>\n",
       "      <th>1</th>\n",
       "      <td>1</td>\n",
       "      <td>https://mxtoolbox.com/public/upgradev2.aspx?ps...</td>\n",
       "      <td>0</td>\n",
       "      <td>-1</td>\n",
       "      <td>-1</td>\n",
       "      <td>-1</td>\n",
       "      <td>-1</td>\n",
       "      <td>-1</td>\n",
       "      <td>-1</td>\n",
       "      <td>-1</td>\n",
       "      <td>-1</td>\n",
       "      <td>no</td>\n",
       "      <td>2</td>\n",
       "      <td>1</td>\n",
       "      <td>155.3191489</td>\n",
       "      <td>100</td>\n",
       "      <td>0</td>\n",
       "      <td>256</td>\n",
       "      <td>0</td>\n",
       "      <td>6619.0</td>\n",
       "    </tr>\n",
       "    <tr>\n",
       "      <th>2</th>\n",
       "      <td>2</td>\n",
       "      <td>http://parolishop.com.br/questionreviews.htm</td>\n",
       "      <td>0</td>\n",
       "      <td>-1</td>\n",
       "      <td>-1</td>\n",
       "      <td>-1</td>\n",
       "      <td>-1</td>\n",
       "      <td>-1</td>\n",
       "      <td>-1</td>\n",
       "      <td>-1</td>\n",
       "      <td>-1</td>\n",
       "      <td>yes</td>\n",
       "      <td>3</td>\n",
       "      <td>1</td>\n",
       "      <td>293.4911243</td>\n",
       "      <td>100</td>\n",
       "      <td>0</td>\n",
       "      <td>36</td>\n",
       "      <td>0</td>\n",
       "      <td>NaN</td>\n",
       "    </tr>\n",
       "    <tr>\n",
       "      <th>3</th>\n",
       "      <td>3</td>\n",
       "      <td>http://innovate.ieee.org/innovate/35675?lt=xpl...</td>\n",
       "      <td>1</td>\n",
       "      <td>-1</td>\n",
       "      <td>-1</td>\n",
       "      <td>-1</td>\n",
       "      <td>-1</td>\n",
       "      <td>-1</td>\n",
       "      <td>-1</td>\n",
       "      <td>-1</td>\n",
       "      <td>-1</td>\n",
       "      <td>no</td>\n",
       "      <td>3</td>\n",
       "      <td>1</td>\n",
       "      <td>N-N</td>\n",
       "      <td>N-N</td>\n",
       "      <td>N-N</td>\n",
       "      <td>58</td>\n",
       "      <td>0</td>\n",
       "      <td>717.0</td>\n",
       "    </tr>\n",
       "    <tr>\n",
       "      <th>4</th>\n",
       "      <td>4</td>\n",
       "      <td>http://ietbhaddal.edu.in/bb.mobile/mobile/inde...</td>\n",
       "      <td>0</td>\n",
       "      <td>-1</td>\n",
       "      <td>-1</td>\n",
       "      <td>-1</td>\n",
       "      <td>-1</td>\n",
       "      <td>-1</td>\n",
       "      <td>1</td>\n",
       "      <td>-1</td>\n",
       "      <td>-1</td>\n",
       "      <td>yes</td>\n",
       "      <td>3</td>\n",
       "      <td>1</td>\n",
       "      <td>N-N</td>\n",
       "      <td>N-N</td>\n",
       "      <td>N-N</td>\n",
       "      <td>716</td>\n",
       "      <td>1</td>\n",
       "      <td>NaN</td>\n",
       "    </tr>\n",
       "  </tbody>\n",
       "</table>\n",
       "</div>"
      ],
      "text/plain": [
       "   Unnamed: 0                                                URL  \\\n",
       "0           0  https://locking-app-adverds.000webhostapp.com/...   \n",
       "1           1  https://mxtoolbox.com/public/upgradev2.aspx?ps...   \n",
       "2           2       http://parolishop.com.br/questionreviews.htm   \n",
       "3           3  http://innovate.ieee.org/innovate/35675?lt=xpl...   \n",
       "4           4  http://ietbhaddal.edu.in/bb.mobile/mobile/inde...   \n",
       "\n",
       "  embedded_domain_in_path ip_address number_of_dots host_has_dash  \\\n",
       "0                       1         -1             -1             1   \n",
       "1                       0         -1             -1            -1   \n",
       "2                       0         -1             -1            -1   \n",
       "3                       1         -1             -1            -1   \n",
       "4                       0         -1             -1            -1   \n",
       "\n",
       "  dictionary_word http_in_hostname targeted_brand redirecting url ext url  \\\n",
       "0               1               -1             -1              -1      -1   \n",
       "1              -1               -1             -1              -1      -1   \n",
       "2              -1               -1             -1              -1      -1   \n",
       "3              -1               -1             -1              -1      -1   \n",
       "4              -1               -1              1              -1      -1   \n",
       "\n",
       "  Phishing  Subdomains  Prefix-Suffix   Anchor Tag Tags Forms  \\\n",
       "0      yes           3             -1          N-N  N-N   N-N   \n",
       "1       no           2              1  155.3191489  100     0   \n",
       "2      yes           3              1  293.4911243  100     0   \n",
       "3       no           3              1          N-N  N-N   N-N   \n",
       "4      yes           3              1          N-N  N-N   N-N   \n",
       "\n",
       "   SSL Expiry Date  SSL Cert Check  Alexa Ranking  \n",
       "0              253               0         3664.0  \n",
       "1              256               0         6619.0  \n",
       "2               36               0            NaN  \n",
       "3               58               0          717.0  \n",
       "4              716               1            NaN  "
      ]
     },
     "execution_count": 30,
     "metadata": {},
     "output_type": "execute_result"
    }
   ],
   "source": [
    "data.head()"
   ]
  },
  {
   "cell_type": "code",
   "execution_count": null,
   "metadata": {},
   "outputs": [],
   "source": []
  },
  {
   "cell_type": "code",
   "execution_count": null,
   "metadata": {},
   "outputs": [],
   "source": []
  },
  {
   "cell_type": "markdown",
   "metadata": {},
   "source": [
    "# DATA CLEANING"
   ]
  },
  {
   "cell_type": "code",
   "execution_count": 31,
   "metadata": {},
   "outputs": [],
   "source": [
    "data.drop('Unnamed: 0', axis=1,inplace=True)"
   ]
  },
  {
   "cell_type": "code",
   "execution_count": 40,
   "metadata": {},
   "outputs": [
    {
     "data": {
      "text/html": [
       "<div>\n",
       "<style scoped>\n",
       "    .dataframe tbody tr th:only-of-type {\n",
       "        vertical-align: middle;\n",
       "    }\n",
       "\n",
       "    .dataframe tbody tr th {\n",
       "        vertical-align: top;\n",
       "    }\n",
       "\n",
       "    .dataframe thead th {\n",
       "        text-align: right;\n",
       "    }\n",
       "</style>\n",
       "<table border=\"1\" class=\"dataframe\">\n",
       "  <thead>\n",
       "    <tr style=\"text-align: right;\">\n",
       "      <th></th>\n",
       "      <th>URL</th>\n",
       "      <th>embedded_domain_in_path</th>\n",
       "      <th>ip_address</th>\n",
       "      <th>number_of_dots</th>\n",
       "      <th>host_has_dash</th>\n",
       "      <th>dictionary_word</th>\n",
       "      <th>http_in_hostname</th>\n",
       "      <th>targeted_brand</th>\n",
       "      <th>redirecting url</th>\n",
       "      <th>ext url</th>\n",
       "      <th>Phishing</th>\n",
       "      <th>Subdomains</th>\n",
       "      <th>Prefix-Suffix</th>\n",
       "      <th>Anchor Tag</th>\n",
       "      <th>Tags</th>\n",
       "      <th>Forms</th>\n",
       "      <th>SSL Expiry Date</th>\n",
       "      <th>SSL Cert Check</th>\n",
       "      <th>Alexa Ranking</th>\n",
       "    </tr>\n",
       "  </thead>\n",
       "  <tbody>\n",
       "    <tr>\n",
       "      <th>1705</th>\n",
       "      <td>url</td>\n",
       "      <td>embedded_domain_in_path</td>\n",
       "      <td>ip_address</td>\n",
       "      <td>number_of_dots</td>\n",
       "      <td>host_has_dash</td>\n",
       "      <td>dictionary_word</td>\n",
       "      <td>http_in_hostname</td>\n",
       "      <td>targeted_brand</td>\n",
       "      <td>redirecting url</td>\n",
       "      <td>ext url</td>\n",
       "      <td>result</td>\n",
       "      <td>1</td>\n",
       "      <td>1</td>\n",
       "      <td>N-N</td>\n",
       "      <td>N-N</td>\n",
       "      <td>N-N</td>\n",
       "      <td>-1</td>\n",
       "      <td>-1</td>\n",
       "      <td>NaN</td>\n",
       "    </tr>\n",
       "  </tbody>\n",
       "</table>\n",
       "</div>"
      ],
      "text/plain": [
       "      URL  embedded_domain_in_path  ip_address  number_of_dots  host_has_dash  \\\n",
       "1705  url  embedded_domain_in_path  ip_address  number_of_dots  host_has_dash   \n",
       "\n",
       "      dictionary_word  http_in_hostname  targeted_brand  redirecting url  \\\n",
       "1705  dictionary_word  http_in_hostname  targeted_brand  redirecting url   \n",
       "\n",
       "      ext url Phishing  Subdomains  Prefix-Suffix Anchor Tag Tags Forms  \\\n",
       "1705  ext url   result           1              1        N-N  N-N   N-N   \n",
       "\n",
       "      SSL Expiry Date  SSL Cert Check  Alexa Ranking  \n",
       "1705               -1              -1            NaN  "
      ]
     },
     "execution_count": 40,
     "metadata": {},
     "output_type": "execute_result"
    }
   ],
   "source": [
    "data[data['URL'] == \"url\"]"
   ]
  },
  {
   "cell_type": "code",
   "execution_count": 48,
   "metadata": {},
   "outputs": [],
   "source": [
    "data.drop(1705,axis=0,inplace=True)"
   ]
  },
  {
   "cell_type": "code",
   "execution_count": 52,
   "metadata": {},
   "outputs": [
    {
     "data": {
      "text/plain": [
       "Index(['URL', 'embedded_domain_in_path', 'ip_address', 'number_of_dots',\n",
       "       'host_has_dash', 'dictionary_word', 'http_in_hostname',\n",
       "       'targeted_brand', 'redirecting url', 'ext url', 'Phishing',\n",
       "       'Subdomains', 'Prefix-Suffix', 'Anchor Tag', 'Tags', 'Forms',\n",
       "       'SSL Expiry Date', 'SSL Cert Check', 'Alexa Ranking'],\n",
       "      dtype='object')"
      ]
     },
     "execution_count": 52,
     "metadata": {},
     "output_type": "execute_result"
    }
   ],
   "source": [
    "data.columns"
   ]
  },
  {
   "cell_type": "code",
   "execution_count": null,
   "metadata": {},
   "outputs": [],
   "source": []
  },
  {
   "cell_type": "markdown",
   "metadata": {},
   "source": [
    "# Cleaning Anchor Tag feature"
   ]
  },
  {
   "cell_type": "code",
   "execution_count": 77,
   "metadata": {},
   "outputs": [
    {
     "data": {
      "text/plain": [
       "yes    875\n",
       "no     179\n",
       "Name: Phishing, dtype: int64"
      ]
     },
     "execution_count": 77,
     "metadata": {},
     "output_type": "execute_result"
    }
   ],
   "source": [
    "data[data['Anchor Tag'] == 'N-N']['Phishing'].value_counts()"
   ]
  },
  {
   "cell_type": "code",
   "execution_count": 94,
   "metadata": {},
   "outputs": [],
   "source": [
    "data['Anchor Tag'].replace('N-N',np.nan,inplace=True)"
   ]
  },
  {
   "cell_type": "code",
   "execution_count": 104,
   "metadata": {},
   "outputs": [],
   "source": [
    "data['Anchor Tag'] = data['Anchor Tag'].astype(float)"
   ]
  },
  {
   "cell_type": "code",
   "execution_count": 106,
   "metadata": {},
   "outputs": [],
   "source": [
    "data['Anchor Tag'] = round(data['Anchor Tag'],ndigits=0)"
   ]
  },
  {
   "cell_type": "code",
   "execution_count": 121,
   "metadata": {},
   "outputs": [],
   "source": [
    "def impute_anchors_val(vals):\n",
    "    anc = vals[0]\n",
    "    phish = vals[1]\n",
    "    if phish == 'yes' and pd.isnull(anc):\n",
    "        return 300\n",
    "    elif phish == 'no' and pd.isnull(anc):\n",
    "        return 150\n",
    "    else:\n",
    "        return anc"
   ]
  },
  {
   "cell_type": "code",
   "execution_count": 124,
   "metadata": {},
   "outputs": [],
   "source": [
    "data['Anchor Tag'] = data[['Anchor Tag', 'Phishing']].apply(impute_anchors_val,axis=1)"
   ]
  },
  {
   "cell_type": "code",
   "execution_count": 127,
   "metadata": {},
   "outputs": [
    {
     "data": {
      "text/html": [
       "<div>\n",
       "<style scoped>\n",
       "    .dataframe tbody tr th:only-of-type {\n",
       "        vertical-align: middle;\n",
       "    }\n",
       "\n",
       "    .dataframe tbody tr th {\n",
       "        vertical-align: top;\n",
       "    }\n",
       "\n",
       "    .dataframe thead th {\n",
       "        text-align: right;\n",
       "    }\n",
       "</style>\n",
       "<table border=\"1\" class=\"dataframe\">\n",
       "  <thead>\n",
       "    <tr style=\"text-align: right;\">\n",
       "      <th></th>\n",
       "      <th>URL</th>\n",
       "      <th>embedded_domain_in_path</th>\n",
       "      <th>ip_address</th>\n",
       "      <th>number_of_dots</th>\n",
       "      <th>host_has_dash</th>\n",
       "      <th>dictionary_word</th>\n",
       "      <th>http_in_hostname</th>\n",
       "      <th>targeted_brand</th>\n",
       "      <th>redirecting url</th>\n",
       "      <th>ext url</th>\n",
       "      <th>Phishing</th>\n",
       "      <th>Subdomains</th>\n",
       "      <th>Prefix-Suffix</th>\n",
       "      <th>Anchor Tag</th>\n",
       "      <th>Tags</th>\n",
       "      <th>Forms</th>\n",
       "      <th>SSL Expiry Date</th>\n",
       "      <th>SSL Cert Check</th>\n",
       "      <th>Alexa Ranking</th>\n",
       "    </tr>\n",
       "  </thead>\n",
       "  <tbody>\n",
       "  </tbody>\n",
       "</table>\n",
       "</div>"
      ],
      "text/plain": [
       "Empty DataFrame\n",
       "Columns: [URL, embedded_domain_in_path, ip_address, number_of_dots, host_has_dash, dictionary_word, http_in_hostname, targeted_brand, redirecting url, ext url, Phishing, Subdomains, Prefix-Suffix, Anchor Tag, Tags, Forms, SSL Expiry Date, SSL Cert Check, Alexa Ranking]\n",
       "Index: []"
      ]
     },
     "execution_count": 127,
     "metadata": {},
     "output_type": "execute_result"
    }
   ],
   "source": [
    "data[data['Anchor Tag'].isnull()]"
   ]
  },
  {
   "cell_type": "code",
   "execution_count": 129,
   "metadata": {},
   "outputs": [
    {
     "data": {
      "text/plain": [
       "268.5291902071563"
      ]
     },
     "execution_count": 129,
     "metadata": {},
     "output_type": "execute_result"
    }
   ],
   "source": [
    "data[data['Phishing'] == 'yes']['Anchor Tag'].mean()"
   ]
  },
  {
   "cell_type": "code",
   "execution_count": 130,
   "metadata": {},
   "outputs": [
    {
     "data": {
      "text/plain": [
       "162.8074074074074"
      ]
     },
     "execution_count": 130,
     "metadata": {},
     "output_type": "execute_result"
    }
   ],
   "source": [
    "data[data['Phishing'] == 'no']['Anchor Tag'].mean()"
   ]
  },
  {
   "cell_type": "code",
   "execution_count": null,
   "metadata": {},
   "outputs": [],
   "source": []
  },
  {
   "cell_type": "markdown",
   "metadata": {},
   "source": [
    "# Tags feature processing"
   ]
  },
  {
   "cell_type": "code",
   "execution_count": 141,
   "metadata": {},
   "outputs": [
    {
     "data": {
      "text/plain": [
       "N-N    1118\n",
       "100    1024\n",
       "Name: Tags, dtype: int64"
      ]
     },
     "execution_count": 141,
     "metadata": {},
     "output_type": "execute_result"
    }
   ],
   "source": [
    "data['Tags'].value_counts()"
   ]
  },
  {
   "cell_type": "markdown",
   "metadata": {},
   "source": [
    "OBSERVATION: It is better to exclude this feature as not much useful information can be extracted from it. Moreover, for more than half the data points the information is not available (exception case)"
   ]
  },
  {
   "cell_type": "markdown",
   "metadata": {},
   "source": [
    "# Forms feature processing"
   ]
  },
  {
   "cell_type": "code",
   "execution_count": 147,
   "metadata": {},
   "outputs": [
    {
     "data": {
      "text/plain": [
       "1      447\n",
       "0      442\n",
       "N-N    175\n",
       "-1      16\n",
       "Name: Forms, dtype: int64"
      ]
     },
     "execution_count": 147,
     "metadata": {},
     "output_type": "execute_result"
    }
   ],
   "source": [
    "data[data['Phishing'] == 'no']['Forms'].value_counts()"
   ]
  },
  {
   "cell_type": "code",
   "execution_count": 148,
   "metadata": {},
   "outputs": [
    {
     "data": {
      "text/plain": [
       "N-N    875\n",
       "1      102\n",
       "0       79\n",
       "-1       6\n",
       "Name: Forms, dtype: int64"
      ]
     },
     "execution_count": 148,
     "metadata": {},
     "output_type": "execute_result"
    }
   ],
   "source": [
    "data[data['Phishing'] == 'yes']['Forms'].value_counts()"
   ]
  },
  {
   "cell_type": "code",
   "execution_count": 151,
   "metadata": {},
   "outputs": [],
   "source": [
    "data['Forms'].replace('N-N',np.nan, inplace=True)"
   ]
  },
  {
   "cell_type": "code",
   "execution_count": 159,
   "metadata": {},
   "outputs": [],
   "source": [
    "# This function checks whether any information related to the form links is available or not\n",
    "def form_info_available(form_val):\n",
    "    val = form_val[0]\n",
    "    if pd.isnull(val):\n",
    "        return 0\n",
    "    return 1"
   ]
  },
  {
   "cell_type": "code",
   "execution_count": 161,
   "metadata": {},
   "outputs": [],
   "source": [
    "data['Forms'] = data[['Forms']].apply(form_info_available,axis=1)"
   ]
  },
  {
   "cell_type": "code",
   "execution_count": null,
   "metadata": {},
   "outputs": [],
   "source": []
  },
  {
   "cell_type": "code",
   "execution_count": 185,
   "metadata": {},
   "outputs": [
    {
     "data": {
      "text/plain": [
       "-1       543\n",
       " 253      59\n",
       " 252      33\n",
       " 39       19\n",
       " 62       16\n",
       " 55       16\n",
       " 2501     10\n",
       " 35        9\n",
       " 22        8\n",
       " 80        8\n",
       " 85        8\n",
       " 64        8\n",
       " 36        8\n",
       " 43        8\n",
       " 12        8\n",
       " 251       7\n",
       " 42        7\n",
       " 84        7\n",
       " 76        7\n",
       " 79        7\n",
       " 54        6\n",
       " 70        6\n",
       " 243       6\n",
       " 37        6\n",
       " 61        6\n",
       " 44        6\n",
       " 2500      5\n",
       " 11        5\n",
       " 75        5\n",
       " 41        5\n",
       "        ... \n",
       " 654       1\n",
       " 676       1\n",
       " 715       1\n",
       " 731       1\n",
       " 742       1\n",
       " 9043      1\n",
       " 857       1\n",
       " 286       1\n",
       " 282       1\n",
       " 264       1\n",
       " 175       1\n",
       " 98        1\n",
       " 99        1\n",
       " 126       1\n",
       " 2193      1\n",
       " 148       1\n",
       " 9157      1\n",
       " 158       1\n",
       " 167       1\n",
       " 179       1\n",
       " 235       1\n",
       " 180       1\n",
       " 182       1\n",
       " 190       1\n",
       " 204       1\n",
       " 218       1\n",
       " 227       1\n",
       " 229       1\n",
       " 6374      1\n",
       " 154       1\n",
       "Name: SSL Expiry Date, Length: 141, dtype: int64"
      ]
     },
     "execution_count": 185,
     "metadata": {},
     "output_type": "execute_result"
    }
   ],
   "source": [
    "data[data['Phishing'] == \"yes\"]['SSL Expiry Date'].value_counts()"
   ]
  },
  {
   "cell_type": "markdown",
   "metadata": {},
   "source": [
    "# Alexa Ranking Feature Processing"
   ]
  },
  {
   "cell_type": "code",
   "execution_count": 196,
   "metadata": {},
   "outputs": [
    {
     "data": {
      "text/plain": [
       "7538.0"
      ]
     },
     "execution_count": 196,
     "metadata": {},
     "output_type": "execute_result"
    }
   ],
   "source": [
    "data[data['Phishing'] == \"no\"]['Alexa Ranking'].median()"
   ]
  },
  {
   "cell_type": "code",
   "execution_count": 197,
   "metadata": {},
   "outputs": [
    {
     "data": {
      "text/plain": [
       "538085.0"
      ]
     },
     "execution_count": 197,
     "metadata": {},
     "output_type": "execute_result"
    }
   ],
   "source": [
    "data[data['Phishing'] == \"yes\"]['Alexa Ranking'].median()"
   ]
  },
  {
   "cell_type": "code",
   "execution_count": 198,
   "metadata": {},
   "outputs": [],
   "source": [
    "def impute_alexa(vals):\n",
    "    rank = vals[0]\n",
    "    phis = vals[1]\n",
    "    if pd.isnull(rank):\n",
    "        if phis == \"no\":\n",
    "            return 7500\n",
    "        else:\n",
    "            return 538000\n",
    "    return rank"
   ]
  },
  {
   "cell_type": "code",
   "execution_count": 201,
   "metadata": {},
   "outputs": [],
   "source": [
    "data['Alexa Ranking'] = data[['Alexa Ranking', 'Phishing']].apply(impute_alexa,axis=1)"
   ]
  },
  {
   "cell_type": "code",
   "execution_count": 203,
   "metadata": {},
   "outputs": [
    {
     "data": {
      "text/plain": [
       "Index(['URL', 'embedded_domain_in_path', 'ip_address', 'number_of_dots',\n",
       "       'host_has_dash', 'dictionary_word', 'http_in_hostname',\n",
       "       'targeted_brand', 'redirecting url', 'ext url', 'Phishing',\n",
       "       'Subdomains', 'Prefix-Suffix', 'Anchor Tag', 'Tags', 'Forms',\n",
       "       'SSL Expiry Date', 'SSL Cert Check', 'Alexa Ranking'],\n",
       "      dtype='object')"
      ]
     },
     "execution_count": 203,
     "metadata": {},
     "output_type": "execute_result"
    }
   ],
   "source": [
    "data.columns"
   ]
  },
  {
   "cell_type": "code",
   "execution_count": null,
   "metadata": {},
   "outputs": [],
   "source": []
  },
  {
   "cell_type": "code",
   "execution_count": 213,
   "metadata": {},
   "outputs": [
    {
     "data": {
      "text/plain": [
       "Phishing\n",
       "no     223.114815\n",
       "yes    149.979284\n",
       "Name: SSL Expiry Date, dtype: float64"
      ]
     },
     "execution_count": 213,
     "metadata": {},
     "output_type": "execute_result"
    }
   ],
   "source": [
    "data['SSL Expiry Date'].groupby(data['Phishing']).mean()"
   ]
  },
  {
   "cell_type": "code",
   "execution_count": 228,
   "metadata": {},
   "outputs": [
    {
     "data": {
      "text/plain": [
       "-1       543\n",
       " 253      59\n",
       " 252      33\n",
       " 39       19\n",
       " 62       16\n",
       " 55       16\n",
       " 2501     10\n",
       " 35        9\n",
       " 22        8\n",
       " 80        8\n",
       " 85        8\n",
       " 64        8\n",
       " 36        8\n",
       " 43        8\n",
       " 12        8\n",
       " 251       7\n",
       " 42        7\n",
       " 84        7\n",
       " 76        7\n",
       " 79        7\n",
       " 54        6\n",
       " 70        6\n",
       " 243       6\n",
       " 37        6\n",
       " 61        6\n",
       " 44        6\n",
       " 2500      5\n",
       " 11        5\n",
       " 75        5\n",
       " 41        5\n",
       "        ... \n",
       " 654       1\n",
       " 676       1\n",
       " 715       1\n",
       " 731       1\n",
       " 742       1\n",
       " 9043      1\n",
       " 857       1\n",
       " 286       1\n",
       " 282       1\n",
       " 264       1\n",
       " 175       1\n",
       " 98        1\n",
       " 99        1\n",
       " 126       1\n",
       " 2193      1\n",
       " 148       1\n",
       " 9157      1\n",
       " 158       1\n",
       " 167       1\n",
       " 179       1\n",
       " 235       1\n",
       " 180       1\n",
       " 182       1\n",
       " 190       1\n",
       " 204       1\n",
       " 218       1\n",
       " 227       1\n",
       " 229       1\n",
       " 6374      1\n",
       " 154       1\n",
       "Name: SSL Expiry Date, Length: 141, dtype: int64"
      ]
     },
     "execution_count": 228,
     "metadata": {},
     "output_type": "execute_result"
    }
   ],
   "source": [
    "data[data['Phishing'] == \"yes\"]['SSL Expiry Date'].value_counts()"
   ]
  },
  {
   "cell_type": "code",
   "execution_count": 219,
   "metadata": {},
   "outputs": [
    {
     "data": {
      "text/plain": [
       "-1      161\n",
       " 69      78\n",
       " 68      26\n",
       " 163     14\n",
       " 182     13\n",
       " 219     12\n",
       " 316     10\n",
       " 380     10\n",
       " 67      10\n",
       " 151     10\n",
       " 322      9\n",
       " 626      9\n",
       " 249      8\n",
       " 77       8\n",
       " 315      8\n",
       " 74       7\n",
       " 150      7\n",
       " 434      7\n",
       " 582      7\n",
       " 93       7\n",
       " 176      7\n",
       " 49       7\n",
       " 133      7\n",
       " 34       7\n",
       " 750      7\n",
       " 147      6\n",
       " 193      6\n",
       " 66       6\n",
       " 180      6\n",
       " 175      6\n",
       "       ... \n",
       " 191      1\n",
       " 294      1\n",
       " 298      1\n",
       " 423      1\n",
       " 351      1\n",
       " 409      1\n",
       " 408      1\n",
       " 406      1\n",
       " 404      1\n",
       " 391      1\n",
       " 390      1\n",
       " 389      1\n",
       " 387      1\n",
       " 382      1\n",
       " 359      1\n",
       " 358      1\n",
       " 348      1\n",
       " 303      1\n",
       " 344      1\n",
       " 341      1\n",
       " 339      1\n",
       " 337      1\n",
       " 333      1\n",
       " 325      1\n",
       " 323      1\n",
       " 317      1\n",
       " 313      1\n",
       " 311      1\n",
       " 307      1\n",
       " 287      1\n",
       "Name: SSL Expiry Date, Length: 326, dtype: int64"
      ]
     },
     "execution_count": 219,
     "metadata": {},
     "output_type": "execute_result"
    }
   ],
   "source": [
    "data[data['Phishing'] == \"no\"]['SSL Expiry Date'].value_counts()"
   ]
  },
  {
   "cell_type": "code",
   "execution_count": null,
   "metadata": {},
   "outputs": [],
   "source": []
  },
  {
   "cell_type": "code",
   "execution_count": 229,
   "metadata": {},
   "outputs": [],
   "source": [
    "def impute_expiry(vals):\n",
    "    days = vals[0]\n",
    "    phis = vals[1]\n",
    "    if days == -1:\n",
    "        if phis == 'yes':\n",
    "            return 69\n",
    "        else:\n",
    "            return 253\n",
    "    return days"
   ]
  },
  {
   "cell_type": "code",
   "execution_count": 231,
   "metadata": {},
   "outputs": [],
   "source": [
    "data[\"SSL Expiry Date\"] = data[['SSL Expiry Date','Phishing']].apply(impute_expiry, axis=1)"
   ]
  },
  {
   "cell_type": "code",
   "execution_count": 232,
   "metadata": {},
   "outputs": [
    {
     "data": {
      "text/html": [
       "<div>\n",
       "<style scoped>\n",
       "    .dataframe tbody tr th:only-of-type {\n",
       "        vertical-align: middle;\n",
       "    }\n",
       "\n",
       "    .dataframe tbody tr th {\n",
       "        vertical-align: top;\n",
       "    }\n",
       "\n",
       "    .dataframe thead th {\n",
       "        text-align: right;\n",
       "    }\n",
       "</style>\n",
       "<table border=\"1\" class=\"dataframe\">\n",
       "  <thead>\n",
       "    <tr style=\"text-align: right;\">\n",
       "      <th></th>\n",
       "      <th>URL</th>\n",
       "      <th>embedded_domain_in_path</th>\n",
       "      <th>ip_address</th>\n",
       "      <th>number_of_dots</th>\n",
       "      <th>host_has_dash</th>\n",
       "      <th>dictionary_word</th>\n",
       "      <th>http_in_hostname</th>\n",
       "      <th>targeted_brand</th>\n",
       "      <th>redirecting url</th>\n",
       "      <th>ext url</th>\n",
       "      <th>Phishing</th>\n",
       "      <th>Subdomains</th>\n",
       "      <th>Prefix-Suffix</th>\n",
       "      <th>Anchor Tag</th>\n",
       "      <th>Tags</th>\n",
       "      <th>Forms</th>\n",
       "      <th>SSL Expiry Date</th>\n",
       "      <th>SSL Cert Check</th>\n",
       "      <th>Alexa Ranking</th>\n",
       "    </tr>\n",
       "  </thead>\n",
       "  <tbody>\n",
       "    <tr>\n",
       "      <th>0</th>\n",
       "      <td>https://locking-app-adverds.000webhostapp.com/...</td>\n",
       "      <td>1</td>\n",
       "      <td>-1</td>\n",
       "      <td>-1</td>\n",
       "      <td>1</td>\n",
       "      <td>1</td>\n",
       "      <td>-1</td>\n",
       "      <td>-1</td>\n",
       "      <td>-1</td>\n",
       "      <td>-1</td>\n",
       "      <td>yes</td>\n",
       "      <td>3</td>\n",
       "      <td>-1</td>\n",
       "      <td>300.0</td>\n",
       "      <td>N-N</td>\n",
       "      <td>0</td>\n",
       "      <td>253</td>\n",
       "      <td>0</td>\n",
       "      <td>3664.0</td>\n",
       "    </tr>\n",
       "    <tr>\n",
       "      <th>1</th>\n",
       "      <td>https://mxtoolbox.com/public/upgradev2.aspx?ps...</td>\n",
       "      <td>0</td>\n",
       "      <td>-1</td>\n",
       "      <td>-1</td>\n",
       "      <td>-1</td>\n",
       "      <td>-1</td>\n",
       "      <td>-1</td>\n",
       "      <td>-1</td>\n",
       "      <td>-1</td>\n",
       "      <td>-1</td>\n",
       "      <td>no</td>\n",
       "      <td>2</td>\n",
       "      <td>1</td>\n",
       "      <td>155.0</td>\n",
       "      <td>100</td>\n",
       "      <td>1</td>\n",
       "      <td>256</td>\n",
       "      <td>0</td>\n",
       "      <td>6619.0</td>\n",
       "    </tr>\n",
       "    <tr>\n",
       "      <th>2</th>\n",
       "      <td>http://parolishop.com.br/questionreviews.htm</td>\n",
       "      <td>0</td>\n",
       "      <td>-1</td>\n",
       "      <td>-1</td>\n",
       "      <td>-1</td>\n",
       "      <td>-1</td>\n",
       "      <td>-1</td>\n",
       "      <td>-1</td>\n",
       "      <td>-1</td>\n",
       "      <td>-1</td>\n",
       "      <td>yes</td>\n",
       "      <td>3</td>\n",
       "      <td>1</td>\n",
       "      <td>293.0</td>\n",
       "      <td>100</td>\n",
       "      <td>1</td>\n",
       "      <td>36</td>\n",
       "      <td>0</td>\n",
       "      <td>538000.0</td>\n",
       "    </tr>\n",
       "    <tr>\n",
       "      <th>3</th>\n",
       "      <td>http://innovate.ieee.org/innovate/35675?lt=xpl...</td>\n",
       "      <td>1</td>\n",
       "      <td>-1</td>\n",
       "      <td>-1</td>\n",
       "      <td>-1</td>\n",
       "      <td>-1</td>\n",
       "      <td>-1</td>\n",
       "      <td>-1</td>\n",
       "      <td>-1</td>\n",
       "      <td>-1</td>\n",
       "      <td>no</td>\n",
       "      <td>3</td>\n",
       "      <td>1</td>\n",
       "      <td>150.0</td>\n",
       "      <td>N-N</td>\n",
       "      <td>0</td>\n",
       "      <td>58</td>\n",
       "      <td>0</td>\n",
       "      <td>717.0</td>\n",
       "    </tr>\n",
       "    <tr>\n",
       "      <th>4</th>\n",
       "      <td>http://ietbhaddal.edu.in/bb.mobile/mobile/inde...</td>\n",
       "      <td>0</td>\n",
       "      <td>-1</td>\n",
       "      <td>-1</td>\n",
       "      <td>-1</td>\n",
       "      <td>-1</td>\n",
       "      <td>-1</td>\n",
       "      <td>1</td>\n",
       "      <td>-1</td>\n",
       "      <td>-1</td>\n",
       "      <td>yes</td>\n",
       "      <td>3</td>\n",
       "      <td>1</td>\n",
       "      <td>300.0</td>\n",
       "      <td>N-N</td>\n",
       "      <td>0</td>\n",
       "      <td>716</td>\n",
       "      <td>1</td>\n",
       "      <td>538000.0</td>\n",
       "    </tr>\n",
       "  </tbody>\n",
       "</table>\n",
       "</div>"
      ],
      "text/plain": [
       "                                                 URL embedded_domain_in_path  \\\n",
       "0  https://locking-app-adverds.000webhostapp.com/...                       1   \n",
       "1  https://mxtoolbox.com/public/upgradev2.aspx?ps...                       0   \n",
       "2       http://parolishop.com.br/questionreviews.htm                       0   \n",
       "3  http://innovate.ieee.org/innovate/35675?lt=xpl...                       1   \n",
       "4  http://ietbhaddal.edu.in/bb.mobile/mobile/inde...                       0   \n",
       "\n",
       "  ip_address number_of_dots host_has_dash dictionary_word http_in_hostname  \\\n",
       "0         -1             -1             1               1               -1   \n",
       "1         -1             -1            -1              -1               -1   \n",
       "2         -1             -1            -1              -1               -1   \n",
       "3         -1             -1            -1              -1               -1   \n",
       "4         -1             -1            -1              -1               -1   \n",
       "\n",
       "  targeted_brand redirecting url ext url Phishing  Subdomains  Prefix-Suffix  \\\n",
       "0             -1              -1      -1      yes           3             -1   \n",
       "1             -1              -1      -1       no           2              1   \n",
       "2             -1              -1      -1      yes           3              1   \n",
       "3             -1              -1      -1       no           3              1   \n",
       "4              1              -1      -1      yes           3              1   \n",
       "\n",
       "   Anchor Tag Tags  Forms  SSL Expiry Date  SSL Cert Check  Alexa Ranking  \n",
       "0       300.0  N-N      0              253               0         3664.0  \n",
       "1       155.0  100      1              256               0         6619.0  \n",
       "2       293.0  100      1               36               0       538000.0  \n",
       "3       150.0  N-N      0               58               0          717.0  \n",
       "4       300.0  N-N      0              716               1       538000.0  "
      ]
     },
     "execution_count": 232,
     "metadata": {},
     "output_type": "execute_result"
    }
   ],
   "source": [
    "data.head()"
   ]
  },
  {
   "cell_type": "code",
   "execution_count": 235,
   "metadata": {},
   "outputs": [],
   "source": [
    "data.to_csv(\"final_cleaned_dataset.csv\",index=False)"
   ]
  },
  {
   "cell_type": "code",
   "execution_count": null,
   "metadata": {},
   "outputs": [],
   "source": []
  }
 ],
 "metadata": {
  "kernelspec": {
   "display_name": "Python 3",
   "language": "python",
   "name": "python3"
  },
  "language_info": {
   "codemirror_mode": {
    "name": "ipython",
    "version": 3
   },
   "file_extension": ".py",
   "mimetype": "text/x-python",
   "name": "python",
   "nbconvert_exporter": "python",
   "pygments_lexer": "ipython3",
   "version": "3.7.0"
  }
 },
 "nbformat": 4,
 "nbformat_minor": 2
}
